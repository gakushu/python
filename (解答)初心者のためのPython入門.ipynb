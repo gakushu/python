{
 "cells": [
  {
   "cell_type": "markdown",
   "metadata": {},
   "source": [
    "# 初心者のためのPython入門"
   ]
  },
  {
   "cell_type": "code",
   "execution_count": null,
   "metadata": {},
   "outputs": [],
   "source": [
    "print(\"hello world\")"
   ]
  },
  {
   "cell_type": "code",
   "execution_count": null,
   "metadata": {},
   "outputs": [],
   "source": [
    "2 * 5"
   ]
  },
  {
   "cell_type": "code",
   "execution_count": null,
   "metadata": {},
   "outputs": [],
   "source": [
    "3 + 4 #足し算"
   ]
  },
  {
   "cell_type": "code",
   "execution_count": null,
   "metadata": {},
   "outputs": [],
   "source": [
    "10 - 2 #引き算"
   ]
  },
  {
   "cell_type": "code",
   "execution_count": null,
   "metadata": {},
   "outputs": [],
   "source": [
    "2 * 5 #かけ算"
   ]
  },
  {
   "cell_type": "code",
   "execution_count": null,
   "metadata": {},
   "outputs": [],
   "source": [
    "12 / 5 #割り算"
   ]
  },
  {
   "cell_type": "code",
   "execution_count": null,
   "metadata": {},
   "outputs": [],
   "source": [
    "12 // 5 #割り算(商)"
   ]
  },
  {
   "cell_type": "code",
   "execution_count": null,
   "metadata": {},
   "outputs": [],
   "source": [
    "12 % 5 #割り算(あまり)"
   ]
  },
  {
   "cell_type": "code",
   "execution_count": null,
   "metadata": {},
   "outputs": [],
   "source": [
    "3 * (5 + 10) #組み合わせることも可能"
   ]
  },
  {
   "cell_type": "markdown",
   "metadata": {},
   "source": [
    "# データの要約"
   ]
  },
  {
   "cell_type": "markdown",
   "metadata": {},
   "source": [
    "## データの要約\n",
    "\n",
    "Excelと同様に関数を使うことで、データの要約ができます。"
   ]
  },
  {
   "cell_type": "code",
   "execution_count": null,
   "metadata": {},
   "outputs": [],
   "source": [
    "import numpy as np"
   ]
  },
  {
   "cell_type": "code",
   "execution_count": null,
   "metadata": {},
   "outputs": [],
   "source": [
    "uriage_A = np.array([140, 50, 20, 120, 240, 100, 79])"
   ]
  },
  {
   "cell_type": "code",
   "execution_count": null,
   "metadata": {},
   "outputs": [],
   "source": [
    "np.amax(uriage_A) # 最大値"
   ]
  },
  {
   "cell_type": "code",
   "execution_count": null,
   "metadata": {},
   "outputs": [],
   "source": [
    "np.amin(uriage_A) # 最小値"
   ]
  },
  {
   "cell_type": "code",
   "execution_count": null,
   "metadata": {},
   "outputs": [],
   "source": [
    "np.mean(uriage_A) # 平均値"
   ]
  },
  {
   "cell_type": "code",
   "execution_count": null,
   "metadata": {},
   "outputs": [],
   "source": [
    "np.median(uriage_A) # 中央値"
   ]
  },
  {
   "cell_type": "code",
   "execution_count": null,
   "metadata": {},
   "outputs": [],
   "source": [
    "np.std(uriage_A) # 標準偏差"
   ]
  },
  {
   "cell_type": "code",
   "execution_count": null,
   "metadata": {},
   "outputs": [],
   "source": [
    "#演習問題\n",
    "uriage_B = np.array([87, 97, 120, 104, 112, 112, 117])"
   ]
  },
  {
   "cell_type": "code",
   "execution_count": null,
   "metadata": {},
   "outputs": [],
   "source": [
    "np.amax(uriage_B) # 最大値"
   ]
  },
  {
   "cell_type": "code",
   "execution_count": null,
   "metadata": {},
   "outputs": [],
   "source": [
    "np.amin(uriage_B) # 最小値"
   ]
  },
  {
   "cell_type": "code",
   "execution_count": null,
   "metadata": {},
   "outputs": [],
   "source": [
    "np.mean(uriage_B) # 平均値"
   ]
  },
  {
   "cell_type": "code",
   "execution_count": null,
   "metadata": {},
   "outputs": [],
   "source": [
    "np.median(uriage_B) # 中央値"
   ]
  },
  {
   "cell_type": "code",
   "execution_count": null,
   "metadata": {},
   "outputs": [],
   "source": [
    "np.std(uriage_B) # 標準偏差"
   ]
  },
  {
   "cell_type": "code",
   "execution_count": null,
   "metadata": {},
   "outputs": [],
   "source": [
    "# 表の作成\n",
    "import pandas as pd"
   ]
  },
  {
   "cell_type": "code",
   "execution_count": null,
   "metadata": {},
   "outputs": [],
   "source": [
    "pd.DataFrame([[np.amax(uriage_A), np.amax(uriage_B)],\n",
    "              [np.amin(uriage_A), np.amin(uriage_B)],\n",
    "              [np.mean(uriage_A), np.mean(uriage_B)],\n",
    "              [np.median(uriage_A), np.median(uriage_B)],\n",
    "              [np.std(uriage_A), np.std(uriage_B)]])"
   ]
  },
  {
   "cell_type": "markdown",
   "metadata": {},
   "source": [
    "# データの可視化"
   ]
  },
  {
   "cell_type": "code",
   "execution_count": null,
   "metadata": {},
   "outputs": [],
   "source": [
    "# ライブラリのインポート\n",
    "import matplotlib.pyplot as plt"
   ]
  },
  {
   "cell_type": "code",
   "execution_count": null,
   "metadata": {},
   "outputs": [],
   "source": [
    "plt.plot(uriage_A)\n",
    "plt.title('uriage_A')"
   ]
  },
  {
   "cell_type": "code",
   "execution_count": null,
   "metadata": {},
   "outputs": [],
   "source": [
    "plt.plot(uriage_B)\n",
    "plt.title('uriage_B')"
   ]
  },
  {
   "cell_type": "code",
   "execution_count": null,
   "metadata": {},
   "outputs": [],
   "source": [
    "# オブジェクト指向スタイルによる記述\n",
    "fig, ax = plt.subplots()\n",
    "\n",
    "ax.plot(uriage_A)\n",
    "ax.set_title('uriage_A-OOP-style')"
   ]
  },
  {
   "cell_type": "code",
   "execution_count": null,
   "metadata": {},
   "outputs": [],
   "source": [
    "# uriage_Aとuriage_Bをまとめて描画\n",
    "fig, ax = plt.subplots()\n",
    "\n",
    "ax.plot(uriage_A)\n",
    "ax.plot(uriage_B)\n",
    "ax.set_title('uriage_A-OOP-style')"
   ]
  },
  {
   "cell_type": "code",
   "execution_count": null,
   "metadata": {},
   "outputs": [],
   "source": [
    "# 棒グラフによる可視化\n",
    "fig, ax = plt.subplots()\n",
    "\n",
    "ax.bar(['Mon', 'Tue', 'Wed', 'Thu', 'Fri', 'Sat', 'Sun'],uriage_A)\n",
    "ax.set_title('uriage_A-OOP-style')"
   ]
  },
  {
   "cell_type": "code",
   "execution_count": null,
   "metadata": {},
   "outputs": [],
   "source": [
    "# 棒グラフによる可視化\n",
    "fig, ax = plt.subplots()\n",
    "\n",
    "ax.bar(['Mon', 'Tue', 'Wed', 'Thu', 'Fri', 'Sat', 'Sun'],uriage_B)\n",
    "ax.set_title('uriage_A-OOP-style')"
   ]
  },
  {
   "cell_type": "code",
   "execution_count": null,
   "metadata": {},
   "outputs": [],
   "source": [
    "# 積み上げ棒グラフによる可視化\n",
    "fig, ax = plt.subplots()\n",
    "\n",
    "index = [0, 1, 2, 3, 4, 5, 6]\n",
    "#(補足) index = np.arange(len(uriage_A))としても良い。\n",
    "label = ['Mon', 'Tue', 'Wed', 'Thu', 'Fri', 'Sat', 'Sun']\n",
    "\n",
    "width = 0.4\n",
    "ax.bar(index, uriage_A, width = width , label = 'uriage_A')\n",
    "ax.bar(index, uriage_B, width = width , label = 'uriage_B', bottom = uriage_A)\n",
    "\n",
    "ax.set_title('uriage_A-OOP-style')"
   ]
  },
  {
   "cell_type": "code",
   "execution_count": null,
   "metadata": {},
   "outputs": [],
   "source": [
    "# 散布図\n",
    "fig, ax = plt.subplots()\n",
    "\n",
    "ax.scatter(uriage_A, uriage_B)\n",
    "plt.show()"
   ]
  },
  {
   "cell_type": "code",
   "execution_count": null,
   "metadata": {},
   "outputs": [],
   "source": [
    "# ヒストグラム\n",
    "fig, ax = plt.subplots()\n",
    "\n",
    "ax.hist(uriage_A, range=(0, 250), bins=5)\n",
    "plt.show()"
   ]
  },
  {
   "cell_type": "code",
   "execution_count": null,
   "metadata": {},
   "outputs": [],
   "source": [
    "# ヒストグラム\n",
    "fig, ax = plt.subplots()\n",
    "\n",
    "ax.hist(uriage_B, range=(0, 250), bins=5)\n",
    "plt.show()"
   ]
  },
  {
   "cell_type": "code",
   "execution_count": null,
   "metadata": {},
   "outputs": [],
   "source": [
    "# 並べて表示\n",
    "fig, ax = plt.subplots()\n",
    "\n",
    "labels = ['uriage_A', 'uriage_B']\n",
    "ax.hist((uriage_A, uriage_B), range=(0, 250), bins=5, label = labels)\n",
    "ax.legend()\n",
    "\n",
    "plt.show()"
   ]
  },
  {
   "cell_type": "code",
   "execution_count": null,
   "metadata": {},
   "outputs": [],
   "source": [
    "# 箱ひげ図\n",
    "fig, ax = plt.subplots()\n",
    "labels = ['uriage_A', 'uriage_B']\n",
    "\n",
    "ax.boxplot((uriage_A, uriage_B), labels = labels)\n",
    "\n",
    "plt.show()"
   ]
  },
  {
   "cell_type": "code",
   "execution_count": null,
   "metadata": {},
   "outputs": [],
   "source": [
    "#  円グラフ\n",
    "fig, ax = plt.subplots()\n",
    "labels =  ['Mon', 'Tue', 'Wed', 'Thu', 'Fri', 'Sat', 'Sun']\n",
    "\n",
    "ax.pie(uriage_A, labels = labels)\n",
    "\n",
    "plt.show()"
   ]
  },
  {
   "cell_type": "code",
   "execution_count": null,
   "metadata": {},
   "outputs": [],
   "source": [
    "# 上部から描画を開始(startangle = 90)して、時計回りに配置(counterclock = False)する\n",
    "# パーセント表示を追加（autopct = '%1.2f%%'）する\n",
    "fig, ax = plt.subplots()\n",
    "labels =  ['Mon', 'Tue', 'Wed', 'Thu', 'Fri', 'Sat', 'Sun']\n",
    "\n",
    "ax.pie(uriage_A, labels = labels, startangle = 90, counterclock = False, autopct = '%1.2f%%')\n",
    "\n",
    "plt.show()"
   ]
  },
  {
   "cell_type": "code",
   "execution_count": null,
   "metadata": {},
   "outputs": [],
   "source": [
    "# 一部を切り出して強調する\n",
    "explode = [0, 0.3, 0, 0, 0, 0, 0]\n",
    "\n",
    "fig, ax = plt.subplots()\n",
    "labels =  ['Mon', 'Tue', 'Wed', 'Thu', 'Fri', 'Sat', 'Sun']\n",
    "\n",
    "ax.pie(uriage_A, labels = labels, startangle = 90, counterclock = False, autopct = '%1.2f%%', explode = explode)\n",
    "\n",
    "plt.show()"
   ]
  },
  {
   "cell_type": "code",
   "execution_count": null,
   "metadata": {},
   "outputs": [],
   "source": [
    "# 複数のグラフを組み合わせる\n",
    "# uriage_Aは棒グラフ、uriage_Bは折れ線グラフで表示する\n",
    "fig, ax = plt.subplots()\n",
    "\n",
    "index = [0, 1, 2, 3, 4, 5, 6]\n",
    "ax.bar(index, uriage_A, label  = 'uriage_A', color = 'blue')\n",
    "ax.plot(index, uriage_B, label  = 'uriage_B', color = 'orange')\n",
    "ax.legend()\n",
    "\n",
    "plt.show()"
   ]
  },
  {
   "cell_type": "code",
   "execution_count": null,
   "metadata": {},
   "outputs": [],
   "source": [
    "# もっと勉強したい人は\n",
    "# https://pandas.pydata.org/pandas-docs/stable/user_guide/visualization.html"
   ]
  },
  {
   "cell_type": "code",
   "execution_count": null,
   "metadata": {},
   "outputs": [],
   "source": [
    "!pip install japanize-matplotlib"
   ]
  },
  {
   "cell_type": "code",
   "execution_count": null,
   "metadata": {},
   "outputs": [],
   "source": [
    "import japanize_matplotlib"
   ]
  },
  {
   "cell_type": "code",
   "execution_count": null,
   "metadata": {},
   "outputs": [],
   "source": [
    "# 複数のグラフを組み合わせる\n",
    "# uriage_Aは棒グラフ、uriage_Bは折れ線グラフで表示する\n",
    "fig, ax = plt.subplots()\n",
    "\n",
    "index = [0, 1, 2, 3, 4, 5, 6]\n",
    "ax.bar(index, uriage_A, label  = '売上A', color = 'blue')\n",
    "ax.plot(index, uriage_B, label  = '売上B', color = 'orange')\n",
    "ax.legend()\n",
    "\n",
    "plt.show()"
   ]
  },
  {
   "cell_type": "code",
   "execution_count": null,
   "metadata": {},
   "outputs": [],
   "source": [
    "# 複数のグラフを組み合わせる\n",
    "# uriage_Aは棒グラフ、uriage_Bは折れ線グラフで表示する\n",
    "fig, ax = plt.subplots()\n",
    "\n",
    "index = [0, 1, 2, 3, 4, 5, 6]\n",
    "ax.plot(index, uriage_A, label  = '売上A', color = 'blue')\n",
    "ax.plot(index, uriage_B, label  = '売上B', color = 'orange')\n",
    "ax.legend()\n",
    "\n",
    "plt.show()"
   ]
  },
  {
   "cell_type": "markdown",
   "metadata": {},
   "source": [
    "# 演習問題"
   ]
  },
  {
   "cell_type": "code",
   "execution_count": null,
   "metadata": {},
   "outputs": [],
   "source": [
    "# データの読み込み\n",
    "import pandas as pd\n",
    "airplane = pd.read_csv(\"国際線乗客数推移.csv\", encoding = \"SHIFT-JIS\")"
   ]
  },
  {
   "cell_type": "code",
   "execution_count": null,
   "metadata": {},
   "outputs": [],
   "source": [
    "#  データ長（何行何列か）を確認してください。\n",
    "len(airplane)"
   ]
  },
  {
   "cell_type": "code",
   "execution_count": null,
   "metadata": {},
   "outputs": [],
   "source": [
    "# 変数名を確認してください。\n",
    "airplane.columns.values"
   ]
  },
  {
   "cell_type": "code",
   "execution_count": null,
   "metadata": {},
   "outputs": [],
   "source": [
    "# 「乗客数」の最大値・最小値・平均値・中央値・標準偏差を計算してください。\n",
    "print(airplane[\"乗客数\"].max())\n",
    "print(airplane[\"乗客数\"].min())\n",
    "print(airplane[\"乗客数\"].mean())\n",
    "print(airplane[\"乗客数\"].median())\n",
    "print(airplane[\"乗客数\"].std())"
   ]
  },
  {
   "cell_type": "code",
   "execution_count": null,
   "metadata": {},
   "outputs": [],
   "source": [
    "# 列「乗客数」をデータ可視化してください（例：折れ線グラフ）。\n",
    "import matplotlib.pyplot as plt\n",
    "fig, ax = plt.subplots()\n",
    "\n",
    "ax.plot(airplane[\"乗客数\"])\n",
    "ax.set_title('乗客数推移')"
   ]
  }
 ],
 "metadata": {
  "kernelspec": {
   "display_name": "Python 3",
   "language": "python",
   "name": "python3"
  },
  "language_info": {
   "codemirror_mode": {
    "name": "ipython",
    "version": 3
   },
   "file_extension": ".py",
   "mimetype": "text/x-python",
   "name": "python",
   "nbconvert_exporter": "python",
   "pygments_lexer": "ipython3",
   "version": "3.7.2"
  }
 },
 "nbformat": 4,
 "nbformat_minor": 2
}
